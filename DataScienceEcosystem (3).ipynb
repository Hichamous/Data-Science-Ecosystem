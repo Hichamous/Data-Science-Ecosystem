{
 "cells": [
  {
   "cell_type": "markdown",
   "id": "93ea06f9-baf6-4d83-a9d8-38d3e316c245",
   "metadata": {},
   "source": [
    "# Data Science Tools and Ecosystem"
   ]
  },
  {
   "cell_type": "markdown",
   "id": "cf03c39b-c45b-46e1-bf7f-7877da1f9018",
   "metadata": {},
   "source": [
    "This notebook provides an overview of the various tools and technologies used in the data science ecosystem.\n"
   ]
  },
  {
   "cell_type": "markdown",
   "id": "5db04c6e-9af0-46e4-a6c2-2d88e04db791",
   "metadata": {},
   "source": [
    "Some of the popular languages that Data Scientists use are:\n",
    "\n",
    "1. Python\n",
    "2. R\n",
    "3. SQL"
   ]
  },
  {
   "cell_type": "markdown",
   "id": "eb3af248-004a-450c-8d4b-b1548d0080bd",
   "metadata": {},
   "source": [
    "Some of the commonly used libraries used by Data Scientists include:\n",
    "1. Pandas\n",
    "2. NumPy\n",
    "3. scikit-learn"
   ]
  },
  {
   "cell_type": "markdown",
   "id": "5027eef9-93e1-4b59-9813-0a0eb840d215",
   "metadata": {},
   "source": [
    "| Data Science Tools |\n",
    "|--------------------|\n",
    "| Jupyter Notebooks  |\n",
    "| RStudio            |\n",
    "| Apache Zeppelin    |\n"
   ]
  },
  {
   "cell_type": "markdown",
   "id": "6a7ab866-2479-4f73-914c-e277392d21de",
   "metadata": {
    "tags": []
   },
   "source": [
    "### Below are a few examples of evaluating arithmetic expressions in Python."
   ]
  },
  {
   "cell_type": "code",
   "execution_count": 1,
   "id": "748520c0-827e-4f85-a541-35df9a9cf8a8",
   "metadata": {
    "tags": []
   },
   "outputs": [
    {
     "name": "stdout",
     "output_type": "stream",
     "text": [
      "17\n"
     ]
    }
   ],
   "source": [
    "# This a simple arithmetic expression to multiply then add integers\n",
    "result = (3*4) + 5\n",
    "print(result)\n"
   ]
  },
  {
   "cell_type": "code",
   "execution_count": 2,
   "id": "4520b3f5-0080-42b0-af29-79f1038c1a46",
   "metadata": {
    "tags": []
   },
   "outputs": [
    {
     "name": "stdout",
     "output_type": "stream",
     "text": [
      "3.3333333333333335\n"
     ]
    }
   ],
   "source": [
    "# This will convert 200 minutes to hours by dividing by 60\n",
    "minutes = 200\n",
    "hours = minutes / 60\n",
    "print(hours)\n"
   ]
  },
  {
   "cell_type": "markdown",
   "id": "2a4ae6fc-dd7b-4e2b-9800-d54b99a393ed",
   "metadata": {},
   "source": [
    "This notebook provides an overview of the various tools and technologies used in the data science ecosystem.\n"
   ]
  },
  {
   "cell_type": "markdown",
   "id": "3924e9f1-8a6b-4cf6-9fce-fcca475518c8",
   "metadata": {},
   "source": [
    "**Objectifs:**\n",
    "* List popular languages for Data Science\n",
    "* Introduce data science libraries\n",
    "* Demonstrate basic Python arithmetic operations\n",
    "* Explain the conversion of units (e.g., minutes to hours)"
   ]
  },
  {
   "cell_type": "markdown",
   "id": "624c227d-69da-4e75-affe-753c17803180",
   "metadata": {},
   "source": [
    "## Author\n",
    "BENMOUSSA HICHAM\n"
   ]
  }
 ],
 "metadata": {
  "kernelspec": {
   "display_name": "Python",
   "language": "python",
   "name": "conda-env-python-py"
  },
  "language_info": {
   "codemirror_mode": {
    "name": "ipython",
    "version": 3
   },
   "file_extension": ".py",
   "mimetype": "text/x-python",
   "name": "python",
   "nbconvert_exporter": "python",
   "pygments_lexer": "ipython3",
   "version": "3.7.12"
  }
 },
 "nbformat": 4,
 "nbformat_minor": 5
}
